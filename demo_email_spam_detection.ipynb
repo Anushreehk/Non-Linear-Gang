{
 "cells": [
  {
   "cell_type": "code",
   "execution_count": 54,
   "id": "30096f68",
   "metadata": {},
   "outputs": [],
   "source": [
    "import pickle\n",
    "model1=pickle.load(open('class_spam.pkl','rb'))\n",
    "vectorizer=pickle.load(open('class_vectorizer.pkl','rb'))"
   ]
  },
  {
   "cell_type": "markdown",
   "id": "c9e3da24",
   "metadata": {},
   "source": [
    "## For predicting single message by the User"
   ]
  },
  {
   "cell_type": "code",
   "execution_count": 57,
   "id": "ac6a3be5",
   "metadata": {},
   "outputs": [
    {
     "name": "stdout",
     "output_type": "stream",
     "text": [
      "FreeMsg Why haven't you replied to my text? I'm Randy, sexy, female and live local. Luv to hear from u. Netcollex Ltd 08700621170150p per msg reply Stop to \n",
      "[1]\n",
      "spam mail\n"
     ]
    }
   ],
   "source": [
    "input_mail=input()\n",
    "input_data_features =vectorizer.transform([input_mail]).toarray()\n",
    "prediction = model1.predict(input_data_features)\n",
    "print(prediction)\n",
    "if (prediction[0]==1):\n",
    "    print('spam mail')\n",
    "\n",
    "else:\n",
    "    print('ham mail')"
   ]
  },
  {
   "cell_type": "markdown",
   "id": "8e0aacc5",
   "metadata": {},
   "source": [
    "## For prediction of mails stored in a folder"
   ]
  },
  {
   "cell_type": "code",
   "execution_count": 56,
   "id": "52bad9c2",
   "metadata": {},
   "outputs": [
    {
     "name": "stdout",
     "output_type": "stream",
     "text": [
      "[\"1FreeMsg Hey there darling it's been 3 week's now and no word back! I'd like some fun you up vfor it still? Tb ok! XxX std chgs to send, Ã‚Â£1.50 to rcv2Had your mobile 11 months or more? U R entitled to Update to the latest colour mobiles with camera for Free! Call The Mobile Update Co FREE on 08002986030\"]\n",
      "[1]\n",
      "spam mail\n",
      "['When are you going to ride your bike?7 Tension ah?what machi?any problem?']\n",
      "[0]\n",
      "ham mail\n",
      "['1  XXXMobileMovieClub: To use your credit, click the WAP link in the next txt message or click here>> http://wap. xxxmobilemovieclub.com?n=QJKGIGHJJGCBL']\n",
      "[1]\n",
      "spam mail\n",
      "[\"FreeMsg Why haven't you replied to my text? I'm Randy, sexy, female and live local. Luv to hear from u. Netcollex Ltd 08700621170150p per msg reply Stop to endCustomer service annoncement. You have a New Years delivery waiting for you. Please call 07046744435 now to arrange delivery\"]\n",
      "[1]\n",
      "spam mail\n",
      "[\"Well there's not a lot of things happening in Lindsay on New years *sighs* Some bars in Ptbo and the blue heron has something goingMm that time you dont like fun\"]\n",
      "[0]\n",
      "ham mail\n",
      "['Text & meet someone sexy today. U can find a date or even flirt its up to U. Join 4 just 10p. REPLY with NAME & AGE eg Sam 25. 18 -msg recd@thirtyeight pence7  Congratulations ur awarded 500 of CD vouchers or 125gift guaranteed & Free entry 2 100 wkly draw txt MUSIC to 87066 TnCs www.Ldew.com1win150ppmx3age16']\n",
      "[1]\n",
      "spam mail\n",
      "[\"Sorry man my account's dry or I would, if you want we could trade back half or I could buy some shit with my credit card10 Your opinion about me? 1. Over 2. Jada 3. Kusruthi 4. Lovable 5. Silent 6. Spl character 7. Not matured 8. Stylish 9. Simple Pls reply..\"]\n",
      "[0]\n",
      "ham mail\n",
      "['December only! Had your mobile 11mths+? You are entitled to update to the latest colour camera mobile for Free! Call The Mobile Update Co FREE on 08002986906']\n",
      "[1]\n",
      "spam mail\n",
      "[\"Sorry man my account's dry or I would, if you want we could trade back half or I could buy some shit with my credit card10 Your opinion about me? 1. Over 2. Jada 3. Kusruthi 4. Lovable 5. Silent 6. Spl character 7. Not matured 8. Stylish 9. Simple Pls reply..\"]\n",
      "[0]\n",
      "ham mail\n",
      "[\"FreeMsg Why haven't you replied to my text? I'm Randy, sexy, female and live local. Luv to hear from u. Netcollex Ltd 08700621170150p per msg reply Stop to end5 Customer service annoncement. You have a New Years delivery waiting for you. Please call 07046744435 now to arrange delivery\"]\n",
      "[1]\n",
      "spam mail\n"
     ]
    }
   ],
   "source": [
    "import os\n",
    "os.getcwd()\n",
    "data_folder=os.path.join(os.getcwd(),'prediction')\n",
    "files=list(os.walk(data_folder))\n",
    "for root,folders, files in os.walk(data_folder):\n",
    "    for file in files:\n",
    "        path=os.path.join(root,file)\n",
    "        with open(path) as file:\n",
    "            data = file.readlines()\n",
    "            mail=\"\"\n",
    "            for i in data:\n",
    "                mail=mail+i.strip()     \n",
    "            print([mail])\n",
    "            input_data_features =vectorizer.transform([mail]).toarray()\n",
    "            prediction = model1.predict(input_data_features)\n",
    "            print(prediction)\n",
    "            if (prediction[0]==1):\n",
    "                print('spam mail')\n",
    "\n",
    "            else:\n",
    "                print('ham mail')\n",
    "            \n",
    "            \n"
   ]
  }
 ],
 "metadata": {
  "kernelspec": {
   "display_name": "Python 3 (ipykernel)",
   "language": "python",
   "name": "python3"
  },
  "language_info": {
   "codemirror_mode": {
    "name": "ipython",
    "version": 3
   },
   "file_extension": ".py",
   "mimetype": "text/x-python",
   "name": "python",
   "nbconvert_exporter": "python",
   "pygments_lexer": "ipython3",
   "version": "3.9.7"
  }
 },
 "nbformat": 4,
 "nbformat_minor": 5
}
